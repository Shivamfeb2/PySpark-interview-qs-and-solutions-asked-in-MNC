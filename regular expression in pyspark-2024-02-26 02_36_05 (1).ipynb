{
 "cells": [
  {
   "cell_type": "code",
   "execution_count": 0,
   "metadata": {
    "application/vnd.databricks.v1+cell": {
     "cellMetadata": {
      "byteLimit": 2048000,
      "rowLimit": 10000
     },
     "inputWidgets": {},
     "nuid": "2996f784-871d-4149-b049-9f855e9bee24",
     "showTitle": false,
     "title": ""
    }
   },
   "outputs": [],
   "source": [
    "from pyspark.sql import SparkSession\n",
    "from pyspark.sql.functions import col,length,lower,regexp_replace\n"
   ]
  },
  {
   "cell_type": "code",
   "execution_count": 0,
   "metadata": {
    "application/vnd.databricks.v1+cell": {
     "cellMetadata": {
      "byteLimit": 2048000,
      "rowLimit": 10000
     },
     "inputWidgets": {},
     "nuid": "cd201f4f-f5e5-4c56-9437-804ba396aad4",
     "showTitle": false,
     "title": ""
    }
   },
   "outputs": [],
   "source": [
    "spark = SparkSession.builder.appName('regular expression in pyspark').getOrCreate()"
   ]
  },
  {
   "cell_type": "code",
   "execution_count": 0,
   "metadata": {
    "application/vnd.databricks.v1+cell": {
     "cellMetadata": {
      "byteLimit": 2048000,
      "rowLimit": 10000
     },
     "inputWidgets": {},
     "nuid": "8bb285e6-e648-4fd9-a8bc-8468a8f89ba0",
     "showTitle": false,
     "title": ""
    }
   },
   "outputs": [],
   "source": [
    "data = [(101,'I love to play cricket',),(102,'I am into motorbiking'),(104,'What do you like')]"
   ]
  },
  {
   "cell_type": "code",
   "execution_count": 0,
   "metadata": {
    "application/vnd.databricks.v1+cell": {
     "cellMetadata": {
      "byteLimit": 2048000,
      "rowLimit": 10000
     },
     "inputWidgets": {},
     "nuid": "5c357908-c99b-44fc-8054-7ab4502c8e8e",
     "showTitle": false,
     "title": ""
    }
   },
   "outputs": [],
   "source": [
    "df =spark.createDataFrame(data,['Id','Hobby'])"
   ]
  },
  {
   "cell_type": "code",
   "execution_count": 0,
   "metadata": {
    "application/vnd.databricks.v1+cell": {
     "cellMetadata": {
      "byteLimit": 2048000,
      "rowLimit": 10000
     },
     "inputWidgets": {},
     "nuid": "aa01fc35-77bb-47ab-80f0-f992949db24b",
     "showTitle": false,
     "title": ""
    }
   },
   "outputs": [
    {
     "output_type": "stream",
     "name": "stdout",
     "output_type": "stream",
     "text": [
      "+---+----------------------+\n|Id |Hobby                 |\n+---+----------------------+\n|101|I love to play cricket|\n|102|I am into motorbiking |\n|104|What do you like      |\n+---+----------------------+\n\n"
     ]
    }
   ],
   "source": [
    "df.show(truncate=False)"
   ]
  },
  {
   "cell_type": "code",
   "execution_count": 0,
   "metadata": {
    "application/vnd.databricks.v1+cell": {
     "cellMetadata": {
      "byteLimit": 2048000,
      "rowLimit": 10000
     },
     "inputWidgets": {},
     "nuid": "fd897912-81f0-4424-a15d-0a7a1632b558",
     "showTitle": false,
     "title": ""
    }
   },
   "outputs": [],
   "source": [
    "# Find the  consonants columns\n",
    "\n",
    "df_consonant = df.withColumn('consonants',lower(col('Hobby')))"
   ]
  },
  {
   "cell_type": "code",
   "execution_count": 0,
   "metadata": {
    "application/vnd.databricks.v1+cell": {
     "cellMetadata": {
      "byteLimit": 2048000,
      "rowLimit": 10000
     },
     "inputWidgets": {},
     "nuid": "5d23ab2b-474f-434c-a487-4fbebb8da39c",
     "showTitle": false,
     "title": ""
    }
   },
   "outputs": [
    {
     "output_type": "stream",
     "name": "stdout",
     "output_type": "stream",
     "text": [
      "+---+----------------------+----------------------+----------------------------------+\n|Id |Hobby                 |consonants            |consonants_without_vowel_and_space|\n+---+----------------------+----------------------+----------------------------------+\n|101|I love to play cricket|i love to play cricket|lvtplycrckt                       |\n|102|I am into motorbiking |i am into motorbiking |mntmtrbkng                        |\n|104|What do you like      |what do you like      |whtdylk                           |\n+---+----------------------+----------------------+----------------------------------+\n\n"
     ]
    }
   ],
   "source": [
    "df_consonant = df_consonant.withColumn('consonants_without_vowel_and_space', \\\n",
    "    regexp_replace(col('consonants'),'a|e|i|o|u|\\s',''))\n",
    "df_consonant.show(truncate=False)"
   ]
  },
  {
   "cell_type": "code",
   "execution_count": 0,
   "metadata": {
    "application/vnd.databricks.v1+cell": {
     "cellMetadata": {
      "byteLimit": 2048000,
      "rowLimit": 10000
     },
     "inputWidgets": {},
     "nuid": "14c2f689-8f83-4a31-82a6-6191a00524ca",
     "showTitle": false,
     "title": ""
    }
   },
   "outputs": [
    {
     "output_type": "stream",
     "name": "stdout",
     "output_type": "stream",
     "text": [
      "+---+----------------------------------+\n|Id |consonants_without_vowel_and_space|\n+---+----------------------------------+\n|101|lvtplycrckt                       |\n|102|mntmtrbkng                        |\n|104|whtdylk                           |\n+---+----------------------------------+\n\n"
     ]
    }
   ],
   "source": [
    "df_consonant = df_consonant.drop(col('Hobby'),col('consonants'))\n",
    "df_consonant.show(truncate=False)"
   ]
  },
  {
   "cell_type": "code",
   "execution_count": 0,
   "metadata": {
    "application/vnd.databricks.v1+cell": {
     "cellMetadata": {
      "byteLimit": 2048000,
      "rowLimit": 10000
     },
     "inputWidgets": {},
     "nuid": "1a5ac172-5ce9-478a-8a8e-af3ec3db2fff",
     "showTitle": false,
     "title": ""
    }
   },
   "outputs": [],
   "source": [
    "df_final_answer = df_consonant.withColumn('ConsonantCount',length('consonants_without_vowel_and_space'))"
   ]
  },
  {
   "cell_type": "code",
   "execution_count": 0,
   "metadata": {
    "application/vnd.databricks.v1+cell": {
     "cellMetadata": {
      "byteLimit": 2048000,
      "rowLimit": 10000
     },
     "inputWidgets": {},
     "nuid": "b372fc4f-8a86-4244-8bb1-60ae2cc1633c",
     "showTitle": false,
     "title": ""
    }
   },
   "outputs": [
    {
     "output_type": "stream",
     "name": "stdout",
     "output_type": "stream",
     "text": [
      "+---+-----------+--------------+\n| Id| consonants|ConsonantCount|\n+---+-----------+--------------+\n|101|lvtplycrckt|            11|\n|102| mntmtrbkng|            10|\n|104|    whtdylk|             7|\n+---+-----------+--------------+\n\n"
     ]
    }
   ],
   "source": [
    "df_final_answer=df_final_answer.withColumnRenamed('consonants_without_vowel_and_space','consonants').show()"
   ]
  },
  {
   "cell_type": "code",
   "execution_count": 0,
   "metadata": {
    "application/vnd.databricks.v1+cell": {
     "cellMetadata": {
      "byteLimit": 2048000,
      "rowLimit": 10000
     },
     "inputWidgets": {},
     "nuid": "8e0ecab3-9502-448c-8384-5b4b17c3b084",
     "showTitle": false,
     "title": ""
    }
   },
   "outputs": [],
   "source": []
  }
 ],
 "metadata": {
  "application/vnd.databricks.v1+notebook": {
   "dashboards": [],
   "language": "python",
   "notebookMetadata": {
    "pythonIndentUnit": 4
   },
   "notebookName": "regular expression in pyspark-2024-02-26 02:36:05",
   "widgets": {}
  }
 },
 "nbformat": 4,
 "nbformat_minor": 0
}
