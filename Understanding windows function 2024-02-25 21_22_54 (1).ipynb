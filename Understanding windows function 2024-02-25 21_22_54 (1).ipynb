{
 "cells": [
  {
   "cell_type": "code",
   "execution_count": 0,
   "metadata": {
    "application/vnd.databricks.v1+cell": {
     "cellMetadata": {
      "byteLimit": 2048000,
      "rowLimit": 10000
     },
     "inputWidgets": {},
     "nuid": "fbd440b8-04ea-4d48-a56b-f37b4d44b115",
     "showTitle": false,
     "title": ""
    }
   },
   "outputs": [],
   "source": [
    "3 #IMPORTING NECESSARY MODULES\n",
    "from pyspark.sql import SparkSession\n",
    "from pyspark.sql.window import Window\n",
    "from pyspark.sql.functions import col,sum,lag\n"
   ]
  },
  {
   "cell_type": "code",
   "execution_count": 0,
   "metadata": {
    "application/vnd.databricks.v1+cell": {
     "cellMetadata": {
      "byteLimit": 2048000,
      "rowLimit": 10000
     },
     "inputWidgets": {},
     "nuid": "39f145e1-84e6-44db-bb0c-3c31a3b12fbd",
     "showTitle": false,
     "title": ""
    }
   },
   "outputs": [],
   "source": [
    "# creating SparkSessiom\n",
    "spark = SparkSession.builder.appName('WindowsFunctionExample').getOrCreate()"
   ]
  },
  {
   "cell_type": "code",
   "execution_count": 0,
   "metadata": {
    "application/vnd.databricks.v1+cell": {
     "cellMetadata": {
      "byteLimit": 2048000,
      "rowLimit": 10000
     },
     "inputWidgets": {},
     "nuid": "c1662745-4d91-44bd-8e12-bf565973c2fa",
     "showTitle": false,
     "title": ""
    }
   },
   "outputs": [],
   "source": [
    "#defining sample data\n",
    "data = [(1,'A',100),(2,'B',200),(3,'C',300),(4,'D',400),(5,'E',500)]"
   ]
  },
  {
   "cell_type": "code",
   "execution_count": 0,
   "metadata": {
    "application/vnd.databricks.v1+cell": {
     "cellMetadata": {
      "byteLimit": 2048000,
      "rowLimit": 10000
     },
     "inputWidgets": {},
     "nuid": "f1c1a479-4de5-4dcd-8e89-8f69246ac728",
     "showTitle": false,
     "title": ""
    }
   },
   "outputs": [],
   "source": [
    "schema = ['Id','Category','value']"
   ]
  },
  {
   "cell_type": "code",
   "execution_count": 0,
   "metadata": {
    "application/vnd.databricks.v1+cell": {
     "cellMetadata": {
      "byteLimit": 2048000,
      "rowLimit": 10000
     },
     "inputWidgets": {},
     "nuid": "58d0c3be-ea48-4e7d-9472-ee63bccc6e5e",
     "showTitle": false,
     "title": ""
    }
   },
   "outputs": [],
   "source": [
    "df = spark.createDataFrame(data,['Id','Category','value'])\n",
    "#Or\n",
    "df1 = spark.createDataFrame(data,schema)"
   ]
  },
  {
   "cell_type": "code",
   "execution_count": 0,
   "metadata": {
    "application/vnd.databricks.v1+cell": {
     "cellMetadata": {
      "byteLimit": 2048000,
      "rowLimit": 10000
     },
     "inputWidgets": {},
     "nuid": "b446b997-631c-4b03-b287-3542fed75587",
     "showTitle": false,
     "title": ""
    }
   },
   "outputs": [
    {
     "output_type": "stream",
     "name": "stdout",
     "output_type": "stream",
     "text": [
      "+---+--------+-----+\n| Id|Category|value|\n+---+--------+-----+\n|  1|       A|  100|\n|  2|       B|  200|\n|  3|       C|  300|\n|  4|       D|  400|\n|  5|       E|  500|\n+---+--------+-----+\n\n+---+--------+-----+\n| Id|Category|value|\n+---+--------+-----+\n|  1|       A|  100|\n|  2|       B|  200|\n|  3|       C|  300|\n|  4|       D|  400|\n|  5|       E|  500|\n+---+--------+-----+\n\n"
     ]
    },
    {
     "output_type": "execute_result",
     "data": {
      "text/plain": [
       "pyspark.sql.dataframe.DataFrame"
      ]
     },
     "execution_count": 8,
     "metadata": {},
     "output_type": "execute_result"
    }
   ],
   "source": [
    "df.show()\n",
    "df1.show()\n",
    "type(df)"
   ]
  },
  {
   "cell_type": "code",
   "execution_count": 0,
   "metadata": {
    "application/vnd.databricks.v1+cell": {
     "cellMetadata": {
      "byteLimit": 2048000,
      "rowLimit": 10000
     },
     "inputWidgets": {},
     "nuid": "2e906dcc-5e73-4f15-a682-d5c393f2eca2",
     "showTitle": false,
     "title": ""
    }
   },
   "outputs": [],
   "source": [
    "# defining windows specification\n",
    "windowSpec = Window.orderBy('id')"
   ]
  },
  {
   "cell_type": "code",
   "execution_count": 0,
   "metadata": {
    "application/vnd.databricks.v1+cell": {
     "cellMetadata": {
      "byteLimit": 2048000,
      "rowLimit": 10000
     },
     "inputWidgets": {},
     "nuid": "14b1721c-6812-4d0c-bacf-f86e714b777f",
     "showTitle": false,
     "title": ""
    }
   },
   "outputs": [],
   "source": [
    "# Window function running total\n",
    "df_with_running_total = df.withColumn('running_total',sum('value').over(windowSpec))\n",
    "#Or \n",
    "df1_with_running_total = df.withColumn('running_total',sum('value').over(Window.orderBy('id')))"
   ]
  },
  {
   "cell_type": "code",
   "execution_count": 0,
   "metadata": {
    "application/vnd.databricks.v1+cell": {
     "cellMetadata": {
      "byteLimit": 2048000,
      "rowLimit": 10000
     },
     "inputWidgets": {},
     "nuid": "7cf94b43-2959-4d0e-8d2c-2ec709e4f27d",
     "showTitle": false,
     "title": ""
    }
   },
   "outputs": [
    {
     "output_type": "stream",
     "name": "stdout",
     "output_type": "stream",
     "text": [
      "+---+--------+-----+-------------+\n| Id|Category|value|running_total|\n+---+--------+-----+-------------+\n|  1|       A|  100|          100|\n|  2|       B|  200|          300|\n|  3|       C|  300|          600|\n|  4|       D|  400|         1000|\n|  5|       E|  500|         1500|\n+---+--------+-----+-------------+\n\n+---+--------+-----+-------------+\n| Id|Category|value|running_total|\n+---+--------+-----+-------------+\n|  1|       A|  100|          100|\n|  2|       B|  200|          300|\n|  3|       C|  300|          600|\n|  4|       D|  400|         1000|\n|  5|       E|  500|         1500|\n+---+--------+-----+-------------+\n\n"
     ]
    }
   ],
   "source": [
    "df_with_running_total.show()\n",
    "df1_with_running_total.show()"
   ]
  },
  {
   "cell_type": "code",
   "execution_count": 0,
   "metadata": {
    "application/vnd.databricks.v1+cell": {
     "cellMetadata": {
      "byteLimit": 2048000,
      "rowLimit": 10000
     },
     "inputWidgets": {},
     "nuid": "e2116130-80c7-4a51-8ba4-245519a7484d",
     "showTitle": false,
     "title": ""
    }
   },
   "outputs": [],
   "source": [
    "# We calculate the lag of the value column using the lag window function over the defined window, lag function returns the value of value columns from the previous row within the window\n",
    "df_with_lag = df.withColumn('lag_value',lag('value').over(windowSpec))\n",
    "#OR\n",
    "df1_with_lag = df.withColumn('lag_value',lag('value').over(Window.orderBy('id')))"
   ]
  },
  {
   "cell_type": "code",
   "execution_count": 0,
   "metadata": {
    "application/vnd.databricks.v1+cell": {
     "cellMetadata": {
      "byteLimit": 2048000,
      "rowLimit": 10000
     },
     "inputWidgets": {},
     "nuid": "da146255-0ac3-488e-9308-91a4ed268e8f",
     "showTitle": false,
     "title": ""
    }
   },
   "outputs": [
    {
     "output_type": "stream",
     "name": "stdout",
     "output_type": "stream",
     "text": [
      "+---+--------+-----+---------+\n| Id|Category|value|lag_value|\n+---+--------+-----+---------+\n|  1|       A|  100|     NULL|\n|  2|       B|  200|      100|\n|  3|       C|  300|      200|\n|  4|       D|  400|      300|\n|  5|       E|  500|      400|\n+---+--------+-----+---------+\n\n+---+--------+-----+---------+\n| Id|Category|value|lag_value|\n+---+--------+-----+---------+\n|  1|       A|  100|     NULL|\n|  2|       B|  200|     NULL|\n|  3|       C|  300|      100|\n|  4|       D|  400|      200|\n|  5|       E|  500|      300|\n+---+--------+-----+---------+\n\n"
     ]
    }
   ],
   "source": [
    "df_with_lag.show()\n",
    "df1_with_lag.show()"
   ]
  },
  {
   "cell_type": "code",
   "execution_count": 0,
   "metadata": {
    "application/vnd.databricks.v1+cell": {
     "cellMetadata": {},
     "inputWidgets": {},
     "nuid": "e314602e-0868-4835-984b-f93f30a1dc86",
     "showTitle": false,
     "title": ""
    }
   },
   "outputs": [],
   "source": []
  }
 ],
 "metadata": {
  "application/vnd.databricks.v1+notebook": {
   "dashboards": [],
   "language": "python",
   "notebookMetadata": {
    "pythonIndentUnit": 4
   },
   "notebookName": "Understanding windows function 2024-02-25 21:22:54",
   "widgets": {}
  }
 },
 "nbformat": 4,
 "nbformat_minor": 0
}
