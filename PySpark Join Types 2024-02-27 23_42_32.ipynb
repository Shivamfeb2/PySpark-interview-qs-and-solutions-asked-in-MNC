{
 "cells": [
  {
   "cell_type": "code",
   "execution_count": 0,
   "metadata": {
    "application/vnd.databricks.v1+cell": {
     "cellMetadata": {
      "byteLimit": 2048000,
      "rowLimit": 10000
     },
     "inputWidgets": {},
     "nuid": "7f67aa2f-4543-46c5-b7f7-31207a93e158",
     "showTitle": false,
     "title": ""
    }
   },
   "outputs": [],
   "source": [
    "from pyspark.sql import SparkSession\n",
    "from pyspark.sql.functions import col,broadcast\n"
   ]
  },
  {
   "cell_type": "code",
   "execution_count": 0,
   "metadata": {
    "application/vnd.databricks.v1+cell": {
     "cellMetadata": {
      "byteLimit": 2048000,
      "rowLimit": 10000
     },
     "inputWidgets": {},
     "nuid": "2fd8dc2f-4d70-4782-ad69-51402284d3f9",
     "showTitle": false,
     "title": ""
    }
   },
   "outputs": [],
   "source": [
    "spark = SparkSession.builder.appName('Pyspark Join').getOrCreate()"
   ]
  },
  {
   "cell_type": "code",
   "execution_count": 0,
   "metadata": {
    "application/vnd.databricks.v1+cell": {
     "cellMetadata": {
      "byteLimit": 2048000,
      "rowLimit": 10000
     },
     "inputWidgets": {},
     "nuid": "04685b6f-7baf-4d8b-acbc-6eb2714ff492",
     "showTitle": false,
     "title": ""
    }
   },
   "outputs": [],
   "source": [
    "table1 = [(1, 'Alice'), (2, 'Bob'),(3, 'Charlie')]"
   ]
  },
  {
   "cell_type": "code",
   "execution_count": 0,
   "metadata": {
    "application/vnd.databricks.v1+cell": {
     "cellMetadata": {
      "byteLimit": 2048000,
      "rowLimit": 10000
     },
     "inputWidgets": {},
     "nuid": "dcb8b38c-2032-4024-84b7-6820e0dbfaf3",
     "showTitle": false,
     "title": ""
    }
   },
   "outputs": [],
   "source": [
    "table2 = [(1, 25),(2, 30),(4, 35)]"
   ]
  },
  {
   "cell_type": "code",
   "execution_count": 0,
   "metadata": {
    "application/vnd.databricks.v1+cell": {
     "cellMetadata": {
      "byteLimit": 2048000,
      "rowLimit": 10000
     },
     "inputWidgets": {},
     "nuid": "54c1526e-312f-4494-a43d-98ccbe4b649a",
     "showTitle": false,
     "title": ""
    }
   },
   "outputs": [],
   "source": [
    "df1 = spark.createDataFrame(table1,[\"Id\",'Name'])"
   ]
  },
  {
   "cell_type": "code",
   "execution_count": 0,
   "metadata": {
    "application/vnd.databricks.v1+cell": {
     "cellMetadata": {
      "byteLimit": 2048000,
      "rowLimit": 10000
     },
     "inputWidgets": {},
     "nuid": "677c1459-75c7-4a1e-98e9-e1be903932c2",
     "showTitle": false,
     "title": ""
    }
   },
   "outputs": [],
   "source": [
    "df2 = spark.createDataFrame(table2,[\"Id\",\"Age\"])"
   ]
  },
  {
   "cell_type": "code",
   "execution_count": 0,
   "metadata": {
    "application/vnd.databricks.v1+cell": {
     "cellMetadata": {
      "byteLimit": 2048000,
      "rowLimit": 10000
     },
     "inputWidgets": {},
     "nuid": "87dc1037-a0bd-46d4-bfbf-4ebd4df5c99a",
     "showTitle": false,
     "title": ""
    }
   },
   "outputs": [
    {
     "output_type": "stream",
     "name": "stdout",
     "output_type": "stream",
     "text": [
      "+---+-------+\n| Id|   Name|\n+---+-------+\n|  1|  Alice|\n|  2|    Bob|\n|  3|Charlie|\n+---+-------+\n\n+---+---+\n| Id|Age|\n+---+---+\n|  1| 25|\n|  2| 30|\n|  4| 35|\n+---+---+\n\n"
     ]
    }
   ],
   "source": [
    "df1.show()\n",
    "df2.show()"
   ]
  },
  {
   "cell_type": "code",
   "execution_count": 0,
   "metadata": {
    "application/vnd.databricks.v1+cell": {
     "cellMetadata": {
      "byteLimit": 2048000,
      "rowLimit": 10000
     },
     "inputWidgets": {},
     "nuid": "7ac5aad7-ee4e-42db-8654-939339509895",
     "showTitle": false,
     "title": ""
    }
   },
   "outputs": [
    {
     "output_type": "stream",
     "name": "stdout",
     "output_type": "stream",
     "text": [
      "+---+-----+---+---+\n| Id| Name| Id|Age|\n+---+-----+---+---+\n|  1|Alice|  1| 25|\n|  2|  Bob|  2| 30|\n+---+-----+---+---+\n\n"
     ]
    }
   ],
   "source": [
    "# Inner Join\n",
    "inner_join_df = df1.join(df2, df1.Id==df2.Id,\"Inner\")\n",
    "inner_join_df.show()"
   ]
  },
  {
   "cell_type": "code",
   "execution_count": 0,
   "metadata": {
    "application/vnd.databricks.v1+cell": {
     "cellMetadata": {
      "byteLimit": 2048000,
      "rowLimit": 10000
     },
     "inputWidgets": {},
     "nuid": "0d65643d-90ed-4615-963e-b65c06739d92",
     "showTitle": false,
     "title": ""
    }
   },
   "outputs": [
    {
     "output_type": "stream",
     "name": "stdout",
     "output_type": "stream",
     "text": [
      "+---+-------+----+\n| Id|   Name| Age|\n+---+-------+----+\n|  1|  Alice|  25|\n|  2|    Bob|  30|\n|  3|Charlie|NULL|\n+---+-------+----+\n\n"
     ]
    }
   ],
   "source": [
    "# Left Join\n",
    "Left_join_df = df1.join(df2, df1.Id==df2.Id, 'Left').select(df1.Id,df1.Name,df2.Age)\n",
    "Left_join_df.show()"
   ]
  },
  {
   "cell_type": "code",
   "execution_count": 0,
   "metadata": {
    "application/vnd.databricks.v1+cell": {
     "cellMetadata": {
      "byteLimit": 2048000,
      "rowLimit": 10000
     },
     "inputWidgets": {},
     "nuid": "3a17e84a-7fa1-4304-8eee-fed75168487d",
     "showTitle": false,
     "title": ""
    }
   },
   "outputs": [
    {
     "output_type": "stream",
     "name": "stdout",
     "output_type": "stream",
     "text": [
      "+----+-----+---+---+\n|  Id| Name| Id|Age|\n+----+-----+---+---+\n|   1|Alice|  1| 25|\n|   2|  Bob|  2| 30|\n|NULL| NULL|  4| 35|\n+----+-----+---+---+\n\n"
     ]
    }
   ],
   "source": [
    "# Right Join\n",
    "right_join_df = df1.join(df2, df1.Id == df2.Id, \"right\")\n",
    "right_join_df.show()\n",
    "\n"
   ]
  },
  {
   "cell_type": "code",
   "execution_count": 0,
   "metadata": {
    "application/vnd.databricks.v1+cell": {
     "cellMetadata": {
      "byteLimit": 2048000,
      "rowLimit": 10000
     },
     "inputWidgets": {},
     "nuid": "f34ed326-4319-4404-b30c-94db83e538c9",
     "showTitle": false,
     "title": ""
    }
   },
   "outputs": [
    {
     "output_type": "stream",
     "name": "stdout",
     "output_type": "stream",
     "text": [
      "+---+-----+\n| Id| Name|\n+---+-----+\n|  1|Alice|\n|  2|  Bob|\n+---+-----+\n\n"
     ]
    }
   ],
   "source": [
    "# LEFT SEMI JOIN\n",
    "left_semi_join_df = df1.join(df2, df1.Id == df2.Id, \"left_semi\")\n",
    "left_semi_join_df.show()"
   ]
  },
  {
   "cell_type": "code",
   "execution_count": 0,
   "metadata": {
    "application/vnd.databricks.v1+cell": {
     "cellMetadata": {
      "byteLimit": 2048000,
      "rowLimit": 10000
     },
     "inputWidgets": {},
     "nuid": "3b4b6836-3a4c-4b6b-87c7-0c35bae52ab2",
     "showTitle": false,
     "title": ""
    }
   },
   "outputs": [
    {
     "output_type": "stream",
     "name": "stdout",
     "output_type": "stream",
     "text": [
      "+----+-------+----+----+\n|  Id|   Name|  Id| Age|\n+----+-------+----+----+\n|   1|  Alice|   1|  25|\n|   2|    Bob|   2|  30|\n|   3|Charlie|NULL|NULL|\n|NULL|   NULL|   4|  35|\n+----+-------+----+----+\n\n"
     ]
    }
   ],
   "source": [
    "# FULL OUTER JOIN\n",
    "outer_join_df = df1.join(df2, df1.Id == df2.Id, \"outer\")\n",
    "outer_join_df.show()\n"
   ]
  },
  {
   "cell_type": "code",
   "execution_count": 0,
   "metadata": {
    "application/vnd.databricks.v1+cell": {
     "cellMetadata": {
      "byteLimit": 2048000,
      "rowLimit": 10000
     },
     "inputWidgets": {},
     "nuid": "97086179-9d56-4984-9e4f-6847e017bc1f",
     "showTitle": false,
     "title": ""
    }
   },
   "outputs": [
    {
     "output_type": "stream",
     "name": "stdout",
     "output_type": "stream",
     "text": [
      "+---+-----+---+---+\n| Id| Name| Id|Age|\n+---+-----+---+---+\n|  1|Alice|  1| 25|\n|  2|  Bob|  2| 30|\n+---+-----+---+---+\n\n"
     ]
    }
   ],
   "source": [
    "# BROADCAST JOIN\n",
    "broadcast_join_df = df1.join(broadcast(df2), df1.Id == df2.Id, \"inner\")\n",
    "broadcast_join_df.show()"
   ]
  },
  {
   "cell_type": "code",
   "execution_count": 0,
   "metadata": {
    "application/vnd.databricks.v1+cell": {
     "cellMetadata": {
      "byteLimit": 2048000,
      "rowLimit": 10000
     },
     "inputWidgets": {},
     "nuid": "6050d7d2-2821-4e5d-97ba-5505600131d3",
     "showTitle": false,
     "title": ""
    }
   },
   "outputs": [
    {
     "output_type": "stream",
     "name": "stdout",
     "output_type": "stream",
     "text": [
      "+---+-----+---+---+\n| Id| Name| Id|Age|\n+---+-----+---+---+\n|  1|Alice|  1| 25|\n|  2|  Bob|  2| 30|\n+---+-----+---+---+\n\n"
     ]
    }
   ],
   "source": [
    "# SHUFFLE HASH JOIN\n",
    "shuffle_hash_join_df = df1.join(df2, df1.Id == df2.Id, \"inner\")\n",
    "shuffle_hash_join_df.show()\n"
   ]
  },
  {
   "cell_type": "code",
   "execution_count": 0,
   "metadata": {
    "application/vnd.databricks.v1+cell": {
     "cellMetadata": {
      "byteLimit": 2048000,
      "rowLimit": 10000
     },
     "inputWidgets": {},
     "nuid": "5817d37c-e51d-43b3-ada1-04cc0e8ed75a",
     "showTitle": false,
     "title": ""
    }
   },
   "outputs": [],
   "source": [
    "# SHUFFLE SORT JOIN\n",
    "df1_sorted = df1.sort(\"Id\")\n",
    "df2_sorted = df2.sort(\"Id\")\n",
    "shuffle_sort_join_df = df1_sorted.join(df2_sorted, df1_sorted.Id == df2_sorted.Id, \"inner\")"
   ]
  },
  {
   "cell_type": "code",
   "execution_count": 0,
   "metadata": {
    "application/vnd.databricks.v1+cell": {
     "cellMetadata": {
      "byteLimit": 2048000,
      "rowLimit": 10000
     },
     "inputWidgets": {},
     "nuid": "df317e28-3abc-44cb-80b7-6e72027339a2",
     "showTitle": false,
     "title": ""
    }
   },
   "outputs": [
    {
     "output_type": "stream",
     "name": "stdout",
     "output_type": "stream",
     "text": [
      "+---+-------+\n| Id|   Name|\n+---+-------+\n|  3|Charlie|\n+---+-------+\n\n"
     ]
    }
   ],
   "source": [
    "# LEFT ANTI JOIN\n",
    "left_anti_join_df = df1.join(df2, df1.Id == df2.Id, \"left_anti\")\n",
    "left_anti_join_df.show()\n"
   ]
  },
  {
   "cell_type": "code",
   "execution_count": 0,
   "metadata": {
    "application/vnd.databricks.v1+cell": {
     "cellMetadata": {
      "byteLimit": 2048000,
      "rowLimit": 10000
     },
     "inputWidgets": {},
     "nuid": "d0e2c36a-f0fe-46df-a22b-ae9546198a0d",
     "showTitle": false,
     "title": ""
    }
   },
   "outputs": [],
   "source": []
  }
 ],
 "metadata": {
  "application/vnd.databricks.v1+notebook": {
   "dashboards": [],
   "language": "python",
   "notebookMetadata": {
    "pythonIndentUnit": 4
   },
   "notebookName": "PySpark Join Types 2024-02-27 23:42:32",
   "widgets": {}
  }
 },
 "nbformat": 4,
 "nbformat_minor": 0
}
