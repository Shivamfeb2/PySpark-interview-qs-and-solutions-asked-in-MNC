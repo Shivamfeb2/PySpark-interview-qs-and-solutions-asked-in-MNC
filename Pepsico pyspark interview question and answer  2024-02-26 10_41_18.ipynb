{
 "cells": [
  {
   "cell_type": "code",
   "execution_count": 0,
   "metadata": {
    "application/vnd.databricks.v1+cell": {
     "cellMetadata": {
      "byteLimit": 2048000,
      "rowLimit": 10000
     },
     "inputWidgets": {},
     "nuid": "8ebd2a3f-adab-45e1-a9c1-6a644031a2af",
     "showTitle": false,
     "title": ""
    }
   },
   "outputs": [],
   "source": [
    "from pyspark.sql import SparkSession\n",
    "from pyspark.sql.types import *"
   ]
  },
  {
   "cell_type": "code",
   "execution_count": 0,
   "metadata": {
    "application/vnd.databricks.v1+cell": {
     "cellMetadata": {
      "byteLimit": 2048000,
      "rowLimit": 10000
     },
     "inputWidgets": {},
     "nuid": "d577999c-bcd3-4637-9ef0-0ff713554338",
     "showTitle": false,
     "title": ""
    }
   },
   "outputs": [],
   "source": [
    "spark = SparkSession.builder.appName('Pepsico interview qs').getOrCreate()"
   ]
  },
  {
   "cell_type": "code",
   "execution_count": 0,
   "metadata": {
    "application/vnd.databricks.v1+cell": {
     "cellMetadata": {
      "byteLimit": 2048000,
      "rowLimit": 10000
     },
     "inputWidgets": {},
     "nuid": "20c0cac9-04a3-4b80-8abf-eba5c439e572",
     "showTitle": false,
     "title": ""
    }
   },
   "outputs": [],
   "source": [
    "data = [(1,'2024-01-01','I1',10,1000),(2,'2024-01-15','I2',20,2000),(3,'2024-02-01','I3',10,1500),(4,'2024-02-15','I4',20,2500),\n",
    "        (5,'2024-03-01','I5',30,3000),(6,'2024-03-10','I6',40,3500),(7,'2024-03-20','I7',20,2500),(8,'2024-03-30','I8',10,1000)]"
   ]
  },
  {
   "cell_type": "code",
   "execution_count": 0,
   "metadata": {
    "application/vnd.databricks.v1+cell": {
     "cellMetadata": {
      "byteLimit": 2048000,
      "rowLimit": 10000
     },
     "inputWidgets": {},
     "nuid": "10de4be2-7bc5-4df9-a225-49b2862c9935",
     "showTitle": false,
     "title": ""
    }
   },
   "outputs": [],
   "source": [
    "schema = [\"SOId\",\"SODate\",\"ItemId\",\"ItemQty\",\"ItemValue\"]"
   ]
  },
  {
   "cell_type": "code",
   "execution_count": 0,
   "metadata": {
    "application/vnd.databricks.v1+cell": {
     "cellMetadata": {
      "byteLimit": 2048000,
      "rowLimit": 10000
     },
     "inputWidgets": {},
     "nuid": "b4115102-c379-4f98-b340-ce195a27b6d6",
     "showTitle": false,
     "title": ""
    }
   },
   "outputs": [],
   "source": [
    "df = spark.createDataFrame(data,schema)"
   ]
  },
  {
   "cell_type": "code",
   "execution_count": 0,
   "metadata": {
    "application/vnd.databricks.v1+cell": {
     "cellMetadata": {
      "byteLimit": 2048000,
      "rowLimit": 10000
     },
     "inputWidgets": {},
     "nuid": "117151bf-b535-486f-bc3b-78ebd8fec522",
     "showTitle": false,
     "title": ""
    }
   },
   "outputs": [
    {
     "output_type": "stream",
     "name": "stdout",
     "output_type": "stream",
     "text": [
      "+----+----------+------+-------+---------+\n|SOId|    SODate|ItemId|ItemQty|ItemValue|\n+----+----------+------+-------+---------+\n|   1|2024-01-01|    I1|     10|     1000|\n|   2|2024-01-15|    I2|     20|     2000|\n|   3|2024-02-01|    I3|     10|     1500|\n|   4|2024-02-15|    I4|     20|     2500|\n|   5|2024-03-01|    I5|     30|     3000|\n|   6|2024-03-10|    I6|     40|     3500|\n|   7|2024-03-20|    I7|     20|     2500|\n|   8|2024-03-30|    I8|     10|     1000|\n+----+----------+------+-------+---------+\n\n"
     ]
    }
   ],
   "source": [
    "df.show()"
   ]
  },
  {
   "cell_type": "code",
   "execution_count": 0,
   "metadata": {
    "application/vnd.databricks.v1+cell": {
     "cellMetadata": {
      "byteLimit": 2048000,
      "rowLimit": 10000
     },
     "inputWidgets": {},
     "nuid": "6abe033a-be69-44e5-a931-3c9b3ddfb673",
     "showTitle": false,
     "title": ""
    }
   },
   "outputs": [
    {
     "output_type": "stream",
     "name": "stdout",
     "output_type": "stream",
     "text": [
      "root\n |-- SOId: long (nullable = true)\n |-- SODate: date (nullable = true)\n |-- ItemId: string (nullable = true)\n |-- ItemQty: long (nullable = true)\n |-- ItemValue: long (nullable = true)\n\n+----+----------+------+-------+---------+\n|SOId|    SODate|ItemId|ItemQty|ItemValue|\n+----+----------+------+-------+---------+\n|   1|2024-01-01|    I1|     10|     1000|\n|   2|2024-01-15|    I2|     20|     2000|\n|   3|2024-02-01|    I3|     10|     1500|\n|   4|2024-02-15|    I4|     20|     2500|\n|   5|2024-03-01|    I5|     30|     3000|\n|   6|2024-03-10|    I6|     40|     3500|\n|   7|2024-03-20|    I7|     20|     2500|\n|   8|2024-03-30|    I8|     10|     1000|\n+----+----------+------+-------+---------+\n\n"
     ]
    }
   ],
   "source": [
    "# type cast the SODate as DateType from String\n",
    "df1 = df.withColumn('SODate',df.SODate.cast(DateType()))\n",
    "df1.printSchema()\n",
    "df.show()"
   ]
  },
  {
   "cell_type": "code",
   "execution_count": 0,
   "metadata": {
    "application/vnd.databricks.v1+cell": {
     "cellMetadata": {
      "byteLimit": 2048000,
      "rowLimit": 10000
     },
     "inputWidgets": {},
     "nuid": "92df72b8-e98d-4949-8d9e-ee5bb00cf9bd",
     "showTitle": false,
     "title": ""
    }
   },
   "outputs": [],
   "source": [
    "from pyspark.sql.functions import *\n"
   ]
  },
  {
   "cell_type": "code",
   "execution_count": 0,
   "metadata": {
    "application/vnd.databricks.v1+cell": {
     "cellMetadata": {
      "byteLimit": 2048000,
      "rowLimit": 10000
     },
     "inputWidgets": {},
     "nuid": "ea847578-3410-4906-99fb-4c766927be08",
     "showTitle": false,
     "title": ""
    }
   },
   "outputs": [],
   "source": [
    "df2 = df1.select(month(df1.SODate).alias('Month'),year(df1.SODate).alias('Year'),df1.ItemValue)"
   ]
  },
  {
   "cell_type": "code",
   "execution_count": 0,
   "metadata": {
    "application/vnd.databricks.v1+cell": {
     "cellMetadata": {
      "byteLimit": 2048000,
      "rowLimit": 10000
     },
     "inputWidgets": {},
     "nuid": "cd98b459-4c7b-4d11-96e9-897c76580ee4",
     "showTitle": false,
     "title": ""
    }
   },
   "outputs": [
    {
     "output_type": "stream",
     "name": "stdout",
     "output_type": "stream",
     "text": [
      "+-----+----+---------+\n|Month|Year|ItemValue|\n+-----+----+---------+\n|    1|2024|     1000|\n|    1|2024|     2000|\n|    2|2024|     1500|\n|    2|2024|     2500|\n|    3|2024|     3000|\n|    3|2024|     3500|\n|    3|2024|     2500|\n|    3|2024|     1000|\n+-----+----+---------+\n\n"
     ]
    }
   ],
   "source": [
    "df2.show()"
   ]
  },
  {
   "cell_type": "code",
   "execution_count": 0,
   "metadata": {
    "application/vnd.databricks.v1+cell": {
     "cellMetadata": {
      "byteLimit": 2048000,
      "rowLimit": 10000
     },
     "inputWidgets": {},
     "nuid": "82483a61-485b-4197-b240-e2d2cef03d3f",
     "showTitle": false,
     "title": ""
    }
   },
   "outputs": [],
   "source": [
    "df3 = df2.groupBy(df2.Month,df2.Year).agg(sum(df2.ItemValue).alias('Total_value'))"
   ]
  },
  {
   "cell_type": "code",
   "execution_count": 0,
   "metadata": {
    "application/vnd.databricks.v1+cell": {
     "cellMetadata": {
      "byteLimit": 2048000,
      "rowLimit": 10000
     },
     "inputWidgets": {},
     "nuid": "c8de7096-deb0-4017-9c2b-a6ab5396010b",
     "showTitle": false,
     "title": ""
    }
   },
   "outputs": [
    {
     "output_type": "stream",
     "name": "stdout",
     "output_type": "stream",
     "text": [
      "+-----+----+-----------+\n|Month|Year|Total_value|\n+-----+----+-----------+\n|    1|2024|       3000|\n|    2|2024|       4000|\n|    3|2024|      10000|\n+-----+----+-----------+\n\n"
     ]
    }
   ],
   "source": [
    "df3.show()"
   ]
  },
  {
   "cell_type": "code",
   "execution_count": 0,
   "metadata": {
    "application/vnd.databricks.v1+cell": {
     "cellMetadata": {
      "byteLimit": 2048000,
      "rowLimit": 10000
     },
     "inputWidgets": {},
     "nuid": "1c062f90-c1a6-4173-8570-b63433ed0ade",
     "showTitle": false,
     "title": ""
    }
   },
   "outputs": [],
   "source": [
    "from pyspark.sql.window import *"
   ]
  },
  {
   "cell_type": "code",
   "execution_count": 0,
   "metadata": {
    "application/vnd.databricks.v1+cell": {
     "cellMetadata": {
      "byteLimit": 2048000,
      "rowLimit": 10000
     },
     "inputWidgets": {},
     "nuid": "5d8ac559-e30e-4cd5-8c7a-2f83a597fb65",
     "showTitle": false,
     "title": ""
    }
   },
   "outputs": [],
   "source": [
    "df4 = df3.select(df3.Month,df3.Year,df3.Total_value,lag(df3.Total_value).over(Window.orderBy(df3.Month,df3.Year)).alias('PrevSales'))"
   ]
  },
  {
   "cell_type": "code",
   "execution_count": 0,
   "metadata": {
    "application/vnd.databricks.v1+cell": {
     "cellMetadata": {
      "byteLimit": 2048000,
      "rowLimit": 10000
     },
     "inputWidgets": {},
     "nuid": "e9358b88-f3fc-4356-a926-03786d25f449",
     "showTitle": false,
     "title": ""
    }
   },
   "outputs": [
    {
     "output_type": "stream",
     "name": "stdout",
     "output_type": "stream",
     "text": [
      "+-----+----+-----------+---------+\n|Month|Year|Total_value|PrevSales|\n+-----+----+-----------+---------+\n|    1|2024|       3000|     NULL|\n|    2|2024|       4000|     3000|\n|    3|2024|      10000|     4000|\n+-----+----+-----------+---------+\n\n"
     ]
    }
   ],
   "source": [
    "df4.show()"
   ]
  },
  {
   "cell_type": "code",
   "execution_count": 0,
   "metadata": {
    "application/vnd.databricks.v1+cell": {
     "cellMetadata": {
      "byteLimit": 2048000,
      "rowLimit": 10000
     },
     "inputWidgets": {},
     "nuid": "d8cd6fe2-b17e-474e-8620-3568133d72e9",
     "showTitle": false,
     "title": ""
    }
   },
   "outputs": [],
   "source": [
    "df5 = df4.select('*',(df4.Total_value - df4.PrevSales)*100/df4.Total_value).alias('Percenatge')"
   ]
  },
  {
   "cell_type": "code",
   "execution_count": 0,
   "metadata": {
    "application/vnd.databricks.v1+cell": {
     "cellMetadata": {
      "byteLimit": 2048000,
      "rowLimit": 10000
     },
     "inputWidgets": {},
     "nuid": "f3554e66-66a3-45d6-ae5e-a534c429e02f",
     "showTitle": false,
     "title": ""
    }
   },
   "outputs": [
    {
     "output_type": "stream",
     "name": "stdout",
     "output_type": "stream",
     "text": [
      "+-----+----+-----------+---------+-------------------------------------------------+\n|Month|Year|Total_value|PrevSales|(((Total_value - PrevSales) * 100) / Total_value)|\n+-----+----+-----------+---------+-------------------------------------------------+\n|    1|2024|       3000|     NULL|                                             NULL|\n|    2|2024|       4000|     3000|                                             25.0|\n|    3|2024|      10000|     4000|                                             60.0|\n+-----+----+-----------+---------+-------------------------------------------------+\n\n"
     ]
    }
   ],
   "source": [
    "df5.show()\n"
   ]
  },
  {
   "cell_type": "code",
   "execution_count": 0,
   "metadata": {
    "application/vnd.databricks.v1+cell": {
     "cellMetadata": {
      "byteLimit": 2048000,
      "rowLimit": 10000
     },
     "inputWidgets": {},
     "nuid": "b92ce0b7-bad3-4b04-9f8e-830069525611",
     "showTitle": false,
     "title": ""
    }
   },
   "outputs": [
    {
     "output_type": "stream",
     "name": "stdout",
     "output_type": "stream",
     "text": [
      "+-----+----+-----------+---------+-------------------------------------------------+-------------------------------------------------+-------------------------------------------------+-------------------------------------------------+\n|Month|Year|Total_value|PrevSales|(((Total_value - PrevSales) * 100) / Total_value)|(((Total_value - PrevSales) * 100) / Total_value)|(((Total_value - PrevSales) * 100) / Total_value)|(((Total_value - PrevSales) * 100) / Total_value)|\n+-----+----+-----------+---------+-------------------------------------------------+-------------------------------------------------+-------------------------------------------------+-------------------------------------------------+\n|    1|2024|       3000|     NULL|                                             NULL|                                             NULL|                                             NULL|                                             NULL|\n|    2|2024|       4000|     3000|                                             25.0|                                             25.0|                                             25.0|                                             25.0|\n|    3|2024|      10000|     4000|                                             60.0|                                             60.0|                                             60.0|                                             60.0|\n+-----+----+-----------+---------+-------------------------------------------------+-------------------------------------------------+-------------------------------------------------+-------------------------------------------------+\n\n"
     ]
    }
   ],
   "source": [
    "df5.show()"
   ]
  },
  {
   "cell_type": "code",
   "execution_count": 0,
   "metadata": {
    "application/vnd.databricks.v1+cell": {
     "cellMetadata": {},
     "inputWidgets": {},
     "nuid": "7cbff703-4ba5-4d81-a02a-5cde3add5ef6",
     "showTitle": false,
     "title": ""
    }
   },
   "outputs": [],
   "source": []
  }
 ],
 "metadata": {
  "application/vnd.databricks.v1+notebook": {
   "dashboards": [],
   "language": "python",
   "notebookMetadata": {
    "pythonIndentUnit": 4
   },
   "notebookName": "Pepsico pyspark interview question and answer  2024-02-26 10:41:18",
   "widgets": {}
  }
 },
 "nbformat": 4,
 "nbformat_minor": 0
}
